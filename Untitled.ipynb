{
 "cells": [
  {
   "cell_type": "code",
   "execution_count": 3,
   "metadata": {},
   "outputs": [],
   "source": [
    "import gudhi as gd"
   ]
  },
  {
   "cell_type": "code",
   "execution_count": 18,
   "metadata": {},
   "outputs": [],
   "source": [
    "X = [[0,0], [1,2], [2,1], [4,3], [4,-3]]\n",
    "alpha_complex = gd.AlphaComplex(points=X)\n",
    "\n",
    "simplex_tree = alpha_complex.create_simplex_tree()"
   ]
  },
  {
   "cell_type": "code",
   "execution_count": 6,
   "metadata": {},
   "outputs": [
    {
     "name": "stdout",
     "output_type": "stream",
     "text": [
      "[0] -> 0.00\n",
      "[1] -> 0.00\n",
      "[2] -> 0.00\n",
      "[3] -> 0.00\n",
      "[4] -> 0.00\n",
      "[1, 2] -> 0.50\n",
      "[0, 1] -> 1.25\n",
      "[0, 2] -> 1.25\n",
      "[0, 1, 2] -> 1.39\n",
      "[2, 3] -> 2.00\n",
      "[1, 3] -> 2.50\n",
      "[1, 2, 3] -> 2.50\n",
      "[2, 4] -> 5.00\n",
      "[0, 4] -> 6.25\n",
      "[0, 2, 4] -> 6.25\n",
      "[3, 4] -> 10.00\n",
      "[2, 3, 4] -> 10.00\n"
     ]
    }
   ],
   "source": [
    "fmt = '%s -> %.2f'\n",
    "for filtered_value in simplex_tree.get_filtration():\n",
    "    print(fmt % tuple(filtered_value))"
   ]
  },
  {
   "cell_type": "code",
   "execution_count": 16,
   "metadata": {},
   "outputs": [
    {
     "name": "stdout",
     "output_type": "stream",
     "text": [
      "[0] -> 0.00\n",
      "[1] -> 0.00\n",
      "[2] -> 0.00\n",
      "[3] -> 0.00\n",
      "[4] -> 0.00\n",
      "[1, 2] -> 1.41\n",
      "[0, 1] -> 2.24\n",
      "[0, 2] -> 2.24\n",
      "[0, 1, 2] -> 2.24\n",
      "[2, 3] -> 2.83\n",
      "[1, 3] -> 3.16\n",
      "[1, 2, 3] -> 3.16\n",
      "[2, 4] -> 4.47\n",
      "[0, 3] -> 5.00\n",
      "[0, 1, 3] -> 5.00\n",
      "[0, 2, 3] -> 5.00\n",
      "[0, 1, 2, 3] -> 5.00\n",
      "[0, 4] -> 5.00\n",
      "[0, 2, 4] -> 5.00\n",
      "[1, 4] -> 5.83\n",
      "[0, 1, 4] -> 5.83\n",
      "[1, 2, 4] -> 5.83\n",
      "[0, 1, 2, 4] -> 5.83\n",
      "[3, 4] -> 6.00\n",
      "[0, 3, 4] -> 6.00\n",
      "[1, 3, 4] -> 6.00\n",
      "[0, 1, 3, 4] -> 6.00\n",
      "[2, 3, 4] -> 6.00\n",
      "[0, 2, 3, 4] -> 6.00\n",
      "[1, 2, 3, 4] -> 6.00\n",
      "[0, 1, 2, 3, 4] -> 6.00\n"
     ]
    }
   ],
   "source": [
    "vr = gd.RipsComplex(points=X)\n",
    "st=vr.create_simplex_tree(max_dimension=10)\n",
    "fmt = '%s -> %.2f'\n",
    "for filtered_value in st.get_filtration():\n",
    "    print(fmt % tuple(filtered_value))"
   ]
  },
  {
   "cell_type": "code",
   "execution_count": 10,
   "metadata": {},
   "outputs": [
    {
     "name": "stdout",
     "output_type": "stream",
     "text": [
      "Deprecated parameter. It has been replaced by max_intervals\n"
     ]
    },
    {
     "data": {
      "image/png": "[encoded data removed]",
      "text/plain": [
       "<Figure size 432x288 with 1 Axes>"
      ]
     },
     "metadata": {
      "needs_background": "light"
     },
     "output_type": "display_data"
    }
   ],
   "source": [
    "diag = simplex_tree.persistence(min_persistence=0.01)\n",
    "plot = gd.plot_persistence_barcode(diag)\n",
    "plot.show()"
   ]
  },
  {
   "cell_type": "code",
   "execution_count": null,
   "metadata": {},
   "outputs": [],
   "source": []
  }
 ],
 "metadata": {
  "kernelspec": {
   "display_name": "Python 3",
   "language": "python",
   "name": "python3"
  },
  "language_info": {
   "codemirror_mode": {
    "name": "ipython",
    "version": 3
   },
   "file_extension": ".py",
   "mimetype": "text/x-python",
   "name": "python",
   "nbconvert_exporter": "python",
   "pygments_lexer": "ipython3",
   "version": "3.7.3"
  }
 },
 "nbformat": 4,
 "nbformat_minor": 2
}
